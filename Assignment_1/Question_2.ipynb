{
 "cells": [
  {
   "cell_type": "code",
   "execution_count": 5,
   "metadata": {},
   "outputs": [
    {
     "data": {
      "text/html": [
       "Tracking run with wandb version 0.19.7"
      ],
      "text/plain": [
       "<IPython.core.display.HTML object>"
      ]
     },
     "metadata": {},
     "output_type": "display_data"
    },
    {
     "data": {
      "text/html": [
       "Run data is saved locally in <code>/home/ic41223/DA6401/Assignment_1/wandb/run-20250302_011913-q0r4lo8p</code>"
      ],
      "text/plain": [
       "<IPython.core.display.HTML object>"
      ]
     },
     "metadata": {},
     "output_type": "display_data"
    },
    {
     "data": {
      "text/html": [
       "Syncing run <strong><a href='https://wandb.ai/harshayelchuri-indian-institute-of-technology-madras/Assignment1/runs/q0r4lo8p' target=\"_blank\">morning-paper-6</a></strong> to <a href='https://wandb.ai/harshayelchuri-indian-institute-of-technology-madras/Assignment1' target=\"_blank\">Weights & Biases</a> (<a href='https://wandb.me/developer-guide' target=\"_blank\">docs</a>)<br>"
      ],
      "text/plain": [
       "<IPython.core.display.HTML object>"
      ]
     },
     "metadata": {},
     "output_type": "display_data"
    },
    {
     "data": {
      "text/html": [
       " View project at <a href='https://wandb.ai/harshayelchuri-indian-institute-of-technology-madras/Assignment1' target=\"_blank\">https://wandb.ai/harshayelchuri-indian-institute-of-technology-madras/Assignment1</a>"
      ],
      "text/plain": [
       "<IPython.core.display.HTML object>"
      ]
     },
     "metadata": {},
     "output_type": "display_data"
    },
    {
     "data": {
      "text/html": [
       " View run at <a href='https://wandb.ai/harshayelchuri-indian-institute-of-technology-madras/Assignment1/runs/q0r4lo8p' target=\"_blank\">https://wandb.ai/harshayelchuri-indian-institute-of-technology-madras/Assignment1/runs/q0r4lo8p</a>"
      ],
      "text/plain": [
       "<IPython.core.display.HTML object>"
      ]
     },
     "metadata": {},
     "output_type": "display_data"
    },
    {
     "data": {
      "text/html": [
       "<button onClick=\"this.nextSibling.style.display='block';this.style.display='none';\">Display W&B run</button><iframe src='https://wandb.ai/harshayelchuri-indian-institute-of-technology-madras/Assignment1/runs/q0r4lo8p?jupyter=true' style='border:none;width:100%;height:420px;display:none;'></iframe>"
      ],
      "text/plain": [
       "<wandb.sdk.wandb_run.Run at 0x7fd7ea4bc250>"
      ]
     },
     "execution_count": 5,
     "metadata": {},
     "output_type": "execute_result"
    }
   ],
   "source": [
    "import wandb\n",
    "import numpy as np\n",
    "import matplotlib.pyplot as plt\n",
    "from keras.datasets import fashion_mnist\n",
    "wandb.init(project=\"Assignment1\")"
   ]
  },
  {
   "cell_type": "code",
   "execution_count": 2,
   "metadata": {},
   "outputs": [],
   "source": [
    "(x_train, y_train), (x_test, y_test) = fashion_mnist.load_data()\n",
    "class_names = [\n",
    "    \"T-shirt/top\", \"Trouser\", \"Pullover\", \"Dress\", \"Coat\",\n",
    "    \"Sandal\", \"Shirt\", \"Sneaker\", \"Bag\", \"Ankle boot\"\n",
    "]"
   ]
  },
  {
   "cell_type": "code",
   "execution_count": 7,
   "metadata": {},
   "outputs": [
    {
     "data": {
      "text/html": [],
      "text/plain": [
       "<IPython.core.display.HTML object>"
      ]
     },
     "metadata": {},
     "output_type": "display_data"
    },
    {
     "data": {
      "text/html": [
       " View run <strong style=\"color:#cdcd00\">morning-paper-6</strong> at: <a href='https://wandb.ai/harshayelchuri-indian-institute-of-technology-madras/Assignment1/runs/q0r4lo8p' target=\"_blank\">https://wandb.ai/harshayelchuri-indian-institute-of-technology-madras/Assignment1/runs/q0r4lo8p</a><br> View project at: <a href='https://wandb.ai/harshayelchuri-indian-institute-of-technology-madras/Assignment1' target=\"_blank\">https://wandb.ai/harshayelchuri-indian-institute-of-technology-madras/Assignment1</a><br>Synced 5 W&B file(s), 20 media file(s), 0 artifact file(s) and 0 other file(s)"
      ],
      "text/plain": [
       "<IPython.core.display.HTML object>"
      ]
     },
     "metadata": {},
     "output_type": "display_data"
    },
    {
     "data": {
      "text/html": [
       "Find logs at: <code>./wandb/run-20250302_011913-q0r4lo8p/logs</code>"
      ],
      "text/plain": [
       "<IPython.core.display.HTML object>"
      ]
     },
     "metadata": {},
     "output_type": "display_data"
    }
   ],
   "source": [
    "selected_images = []\n",
    "selected_labels = []\n",
    "for i in range(10):  # 10 classes\n",
    "    idx = np.where(y_train == i)[0][0]  # Get the first occurrence of each class\n",
    "    selected_images.append(x_train[idx])\n",
    "    selected_labels.append(class_names[i])\n",
    "\n",
    "# Log images to wandb\n",
    "wandb.log({\n",
    "    \"examples\": [wandb.Image(img, caption=label) for img, label in zip(selected_images, selected_labels)]\n",
    "})\n",
    "wandb.alert(title=\"Assignment1\", text=\"Images logged to wandb\")\n",
    "wandb.finish()\n"
   ]
  },
  {
   "cell_type": "code",
   "execution_count": null,
   "metadata": {},
   "outputs": [],
   "source": []
  },
  {
   "cell_type": "code",
   "execution_count": null,
   "metadata": {},
   "outputs": [],
   "source": []
  }
 ],
 "metadata": {
  "kernelspec": {
   "display_name": "DA6401",
   "language": "python",
   "name": "python3"
  },
  "language_info": {
   "codemirror_mode": {
    "name": "ipython",
    "version": 3
   },
   "file_extension": ".py",
   "mimetype": "text/x-python",
   "name": "python",
   "nbconvert_exporter": "python",
   "pygments_lexer": "ipython3",
   "version": "3.9.21"
  }
 },
 "nbformat": 4,
 "nbformat_minor": 2
}
